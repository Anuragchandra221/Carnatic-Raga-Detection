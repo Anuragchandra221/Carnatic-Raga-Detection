{
  "cells": [
    {
      "cell_type": "markdown",
      "metadata": {
        "id": "view-in-github",
        "colab_type": "text"
      },
      "source": [
        "<a href=\"https://colab.research.google.com/github/Anuragchandra221/Carnatic-Raga-Detection/blob/master/Copy_of_raga.ipynb\" target=\"_parent\"><img src=\"https://colab.research.google.com/assets/colab-badge.svg\" alt=\"Open In Colab\"/></a>"
      ]
    },
    {
      "cell_type": "code",
      "execution_count": null,
      "metadata": {
        "id": "E5jlo_64Jol9"
      },
      "outputs": [],
      "source": [
        "import os\n",
        "from google.colab import drive\n",
        "mount_point = \"/content/drive\"\n",
        "data = os.path.join(mount_point, \"MyDrive/Raga detection\")"
      ]
    },
    {
      "cell_type": "code",
      "execution_count": null,
      "metadata": {
        "colab": {
          "base_uri": "https://localhost:8080/"
        },
        "id": "S5qGW2JKq5hx",
        "outputId": "6c7d8dc3-3077-4b75-f87c-38bfa8aca8dc"
      },
      "outputs": [
        {
          "output_type": "stream",
          "name": "stdout",
          "text": [
            "Drive already mounted at /content/drive; to attempt to forcibly remount, call drive.mount(\"/content/drive\", force_remount=True).\n"
          ]
        }
      ],
      "source": [
        "from google.colab import drive\n",
        "drive.mount('/content/drive')"
      ]
    },
    {
      "cell_type": "code",
      "execution_count": null,
      "metadata": {
        "id": "gTVb8lQRK9TO"
      },
      "outputs": [],
      "source": [
        "raga_dir = \"/content/drive/MyDrive/Raga dataset 2\"\n",
        "sub_folders = [f.path for f in os.scandir(raga_dir) if f.is_dir()]"
      ]
    },
    {
      "cell_type": "code",
      "execution_count": null,
      "metadata": {
        "id": "KrtXkWLXcuBj"
      },
      "outputs": [],
      "source": [
        "for sub_folder_path in sub_folders:\n",
        "  files = os.listdir(sub_folder_path)\n",
        "  for i, filename in enumerate(files):\n",
        "    name, extension = os.path.splitext(filename)\n",
        "    new_file_name = f\"{i+1}{extension}\"\n",
        "\n",
        "    old_file_path = os.path.join(sub_folder_path, filename)\n",
        "    new_file_path = os.path.join(sub_folder_path, new_file_name)\n",
        "\n",
        "    os.rename(old_file_path, new_file_path)\n",
        "    print(f\"Renamed {filename} in {sub_folder_path} to {new_file_name}\")"
      ]
    },
    {
      "cell_type": "code",
      "execution_count": null,
      "metadata": {
        "id": "2wzEaIZSLL1d"
      },
      "outputs": [],
      "source": [
        "for filename in os.listdir(raga_dir):\n",
        "  file_path = os.path.join(raga_dir, filename)\n",
        "  if(os.path.isfile(file_path)):\n",
        "    print(file_path)"
      ]
    },
    {
      "cell_type": "code",
      "execution_count": null,
      "metadata": {
        "id": "CMuBASFvLNMZ"
      },
      "outputs": [],
      "source": [
        "!pip install pydub\n",
        "!apt-get install -y ffmpeg"
      ]
    },
    {
      "cell_type": "code",
      "execution_count": null,
      "metadata": {
        "id": "acgEU2C-zyWE"
      },
      "outputs": [],
      "source": [
        "!pip install noisereduce\n",
        "!pip install torchvision\n",
        "!pip3 install sympy"
      ]
    },
    {
      "cell_type": "code",
      "execution_count": null,
      "metadata": {
        "id": "bj5-cj5IMyIT"
      },
      "outputs": [],
      "source": [
        "from pydub import AudioSegment\n",
        "import os\n",
        "from pydub.exceptions import PydubException"
      ]
    },
    {
      "cell_type": "code",
      "execution_count": null,
      "metadata": {
        "id": "4kNvWYKuM2w0"
      },
      "outputs": [],
      "source": [
        "raga_dir = \"/content/drive/MyDrive/Raga detection\"\n",
        "sub_folders = [f.path for f in os.scandir(raga_dir) if f.is_dir()]\n",
        "mp3_dir = raga_dir\n",
        "wav_dir = raga_dir"
      ]
    },
    {
      "cell_type": "markdown",
      "metadata": {
        "id": "I2cSZzxL9frz"
      },
      "source": [
        "**WAV Conversion**"
      ]
    },
    {
      "cell_type": "code",
      "execution_count": null,
      "metadata": {
        "id": "P58mEMzoM-0T"
      },
      "outputs": [],
      "source": [
        "for sub_folder_path in sub_folders:\n",
        "  for filename in os.listdir(sub_folder_path):\n",
        "      if filename.endswith(\".mp3\") or filename.endswith(\".m4a\"):\n",
        "          mp3_path = os.path.join(sub_folder_path, filename)\n",
        "          wav_path = os.path.join(sub_folder_path, os.path.splitext(filename)[0] + \".wav\")\n",
        "\n",
        "          try:\n",
        "              audio = AudioSegment.from_file(mp3_path)\n",
        "              if(os.path.exists(wav_path)):\n",
        "                print(f\"wav file already exists for {filename} in {sub_folder_path}\")\n",
        "                os.remove(mp3_path)\n",
        "                continue\n",
        "              audio.export(wav_path, format=\"wav\")\n",
        "\n",
        "              print(f\"Converted: {filename} -> {os.path.basename(wav_path)}\")\n",
        "              os.remove(mp3_path)\n",
        "\n",
        "          except:\n",
        "              print(f\"Error processing {filename} {sub_folder_path}\")\n",
        "              continue"
      ]
    },
    {
      "cell_type": "code",
      "execution_count": null,
      "metadata": {
        "id": "5U_LPFTANGhn"
      },
      "outputs": [],
      "source": [
        "dirs = '/content/drive/MyDrive/Raga detection'\n",
        "c = 0\n",
        "for dir, dirname, filenames in os.walk(dirs):\n",
        "  c += 1\n",
        "  if not dirname and not filenames:\n",
        "    print(dir.split('/')[-1])\n",
        "print('total no of directories', c)"
      ]
    },
    {
      "cell_type": "code",
      "execution_count": null,
      "metadata": {
        "id": "t74m0Ra2YAs8",
        "colab": {
          "base_uri": "https://localhost:8080/",
          "height": 1000
        },
        "outputId": "7193d839-ba5c-4b85-a222-7066df9f3028"
      },
      "outputs": [
        {
          "output_type": "stream",
          "name": "stdout",
          "text": [
            "Collecting spleeter\n",
            "  Downloading spleeter-2.4.0-py3-none-any.whl (49 kB)\n",
            "\u001b[2K     \u001b[90m━━━━━━━━━━━━━━━━━━━━━━━━━━━━━━━━━━━━━━━━\u001b[0m \u001b[32m49.4/49.4 kB\u001b[0m \u001b[31m1.7 MB/s\u001b[0m eta \u001b[36m0:00:00\u001b[0m\n",
            "\u001b[?25hCollecting ffmpeg-python<0.3.0,>=0.2.0 (from spleeter)\n",
            "  Downloading ffmpeg_python-0.2.0-py3-none-any.whl (25 kB)\n",
            "Collecting httpx[http2]<0.20.0,>=0.19.0 (from spleeter)\n",
            "  Downloading httpx-0.19.0-py3-none-any.whl (77 kB)\n",
            "\u001b[2K     \u001b[90m━━━━━━━━━━━━━━━━━━━━━━━━━━━━━━━━━━━━━━━━\u001b[0m \u001b[32m77.3/77.3 kB\u001b[0m \u001b[31m6.1 MB/s\u001b[0m eta \u001b[36m0:00:00\u001b[0m\n",
            "\u001b[?25hCollecting norbert<0.3.0,>=0.2.1 (from spleeter)\n",
            "  Downloading norbert-0.2.1-py2.py3-none-any.whl (11 kB)\n",
            "Collecting pandas<2.0.0,>=1.3.0 (from spleeter)\n",
            "  Downloading pandas-1.5.3-cp310-cp310-manylinux_2_17_x86_64.manylinux2014_x86_64.whl (12.1 MB)\n",
            "\u001b[2K     \u001b[90m━━━━━━━━━━━━━━━━━━━━━━━━━━━━━━━━━━━━━━━━\u001b[0m \u001b[32m12.1/12.1 MB\u001b[0m \u001b[31m47.9 MB/s\u001b[0m eta \u001b[36m0:00:00\u001b[0m\n",
            "\u001b[?25hCollecting tensorflow<2.10.0,>=2.5.0 (from spleeter)\n",
            "  Downloading tensorflow-2.9.3-cp310-cp310-manylinux_2_17_x86_64.manylinux2014_x86_64.whl (511.8 MB)\n",
            "\u001b[2K     \u001b[90m━━━━━━━━━━━━━━━━━━━━━━━━━━━━━━━━━━━━━━━━\u001b[0m \u001b[32m511.8/511.8 MB\u001b[0m \u001b[31m2.8 MB/s\u001b[0m eta \u001b[36m0:00:00\u001b[0m\n",
            "\u001b[?25hCollecting typer<0.4.0,>=0.3.2 (from spleeter)\n",
            "  Downloading typer-0.3.2-py3-none-any.whl (21 kB)\n",
            "Requirement already satisfied: future in /usr/local/lib/python3.10/dist-packages (from ffmpeg-python<0.3.0,>=0.2.0->spleeter) (0.18.3)\n",
            "Requirement already satisfied: certifi in /usr/local/lib/python3.10/dist-packages (from httpx[http2]<0.20.0,>=0.19.0->spleeter) (2024.2.2)\n",
            "Requirement already satisfied: charset-normalizer in /usr/local/lib/python3.10/dist-packages (from httpx[http2]<0.20.0,>=0.19.0->spleeter) (3.3.2)\n",
            "Requirement already satisfied: sniffio in /usr/local/lib/python3.10/dist-packages (from httpx[http2]<0.20.0,>=0.19.0->spleeter) (1.3.1)\n",
            "Collecting rfc3986[idna2008]<2,>=1.3 (from httpx[http2]<0.20.0,>=0.19.0->spleeter)\n",
            "  Downloading rfc3986-1.5.0-py2.py3-none-any.whl (31 kB)\n",
            "Collecting httpcore<0.14.0,>=0.13.3 (from httpx[http2]<0.20.0,>=0.19.0->spleeter)\n",
            "  Downloading httpcore-0.13.7-py3-none-any.whl (58 kB)\n",
            "\u001b[2K     \u001b[90m━━━━━━━━━━━━━━━━━━━━━━━━━━━━━━━━━━━━━━━━\u001b[0m \u001b[32m58.8/58.8 kB\u001b[0m \u001b[31m8.3 MB/s\u001b[0m eta \u001b[36m0:00:00\u001b[0m\n",
            "\u001b[?25hCollecting h2<5,>=3 (from httpx[http2]<0.20.0,>=0.19.0->spleeter)\n",
            "  Downloading h2-4.1.0-py3-none-any.whl (57 kB)\n",
            "\u001b[2K     \u001b[90m━━━━━━━━━━━━━━━━━━━━━━━━━━━━━━━━━━━━━━━━\u001b[0m \u001b[32m57.5/57.5 kB\u001b[0m \u001b[31m8.3 MB/s\u001b[0m eta \u001b[36m0:00:00\u001b[0m\n",
            "\u001b[?25hRequirement already satisfied: scipy in /usr/local/lib/python3.10/dist-packages (from norbert<0.3.0,>=0.2.1->spleeter) (1.11.4)\n",
            "Requirement already satisfied: python-dateutil>=2.8.1 in /usr/local/lib/python3.10/dist-packages (from pandas<2.0.0,>=1.3.0->spleeter) (2.8.2)\n",
            "Requirement already satisfied: pytz>=2020.1 in /usr/local/lib/python3.10/dist-packages (from pandas<2.0.0,>=1.3.0->spleeter) (2023.4)\n",
            "Requirement already satisfied: numpy>=1.21.0 in /usr/local/lib/python3.10/dist-packages (from pandas<2.0.0,>=1.3.0->spleeter) (1.25.2)\n",
            "Requirement already satisfied: absl-py>=1.0.0 in /usr/local/lib/python3.10/dist-packages (from tensorflow<2.10.0,>=2.5.0->spleeter) (1.4.0)\n",
            "Requirement already satisfied: astunparse>=1.6.0 in /usr/local/lib/python3.10/dist-packages (from tensorflow<2.10.0,>=2.5.0->spleeter) (1.6.3)\n",
            "Collecting flatbuffers<2,>=1.12 (from tensorflow<2.10.0,>=2.5.0->spleeter)\n",
            "  Downloading flatbuffers-1.12-py2.py3-none-any.whl (15 kB)\n",
            "Collecting gast<=0.4.0,>=0.2.1 (from tensorflow<2.10.0,>=2.5.0->spleeter)\n",
            "  Downloading gast-0.4.0-py3-none-any.whl (9.8 kB)\n",
            "Requirement already satisfied: google-pasta>=0.1.1 in /usr/local/lib/python3.10/dist-packages (from tensorflow<2.10.0,>=2.5.0->spleeter) (0.2.0)\n",
            "Requirement already satisfied: grpcio<2.0,>=1.24.3 in /usr/local/lib/python3.10/dist-packages (from tensorflow<2.10.0,>=2.5.0->spleeter) (1.62.1)\n",
            "Requirement already satisfied: h5py>=2.9.0 in /usr/local/lib/python3.10/dist-packages (from tensorflow<2.10.0,>=2.5.0->spleeter) (3.9.0)\n",
            "Collecting keras<2.10.0,>=2.9.0rc0 (from tensorflow<2.10.0,>=2.5.0->spleeter)\n",
            "  Downloading keras-2.9.0-py2.py3-none-any.whl (1.6 MB)\n",
            "\u001b[2K     \u001b[90m━━━━━━━━━━━━━━━━━━━━━━━━━━━━━━━━━━━━━━━━\u001b[0m \u001b[32m1.6/1.6 MB\u001b[0m \u001b[31m33.6 MB/s\u001b[0m eta \u001b[36m0:00:00\u001b[0m\n",
            "\u001b[?25hCollecting keras-preprocessing>=1.1.1 (from tensorflow<2.10.0,>=2.5.0->spleeter)\n",
            "  Downloading Keras_Preprocessing-1.1.2-py2.py3-none-any.whl (42 kB)\n",
            "\u001b[2K     \u001b[90m━━━━━━━━━━━━━━━━━━━━━━━━━━━━━━━━━━━━━━━━\u001b[0m \u001b[32m42.6/42.6 kB\u001b[0m \u001b[31m5.8 MB/s\u001b[0m eta \u001b[36m0:00:00\u001b[0m\n",
            "\u001b[?25hRequirement already satisfied: libclang>=13.0.0 in /usr/local/lib/python3.10/dist-packages (from tensorflow<2.10.0,>=2.5.0->spleeter) (18.1.1)\n",
            "Requirement already satisfied: opt-einsum>=2.3.2 in /usr/local/lib/python3.10/dist-packages (from tensorflow<2.10.0,>=2.5.0->spleeter) (3.3.0)\n",
            "Requirement already satisfied: packaging in /usr/local/lib/python3.10/dist-packages (from tensorflow<2.10.0,>=2.5.0->spleeter) (24.0)\n",
            "Collecting protobuf<3.20,>=3.9.2 (from tensorflow<2.10.0,>=2.5.0->spleeter)\n",
            "  Downloading protobuf-3.19.6-cp310-cp310-manylinux_2_17_x86_64.manylinux2014_x86_64.whl (1.1 MB)\n",
            "\u001b[2K     \u001b[90m━━━━━━━━━━━━━━━━━━━━━━━━━━━━━━━━━━━━━━━━\u001b[0m \u001b[32m1.1/1.1 MB\u001b[0m \u001b[31m68.3 MB/s\u001b[0m eta \u001b[36m0:00:00\u001b[0m\n",
            "\u001b[?25hRequirement already satisfied: setuptools in /usr/local/lib/python3.10/dist-packages (from tensorflow<2.10.0,>=2.5.0->spleeter) (67.7.2)\n",
            "Requirement already satisfied: six>=1.12.0 in /usr/local/lib/python3.10/dist-packages (from tensorflow<2.10.0,>=2.5.0->spleeter) (1.16.0)\n",
            "Collecting tensorboard<2.10,>=2.9 (from tensorflow<2.10.0,>=2.5.0->spleeter)\n",
            "  Downloading tensorboard-2.9.1-py3-none-any.whl (5.8 MB)\n",
            "\u001b[2K     \u001b[90m━━━━━━━━━━━━━━━━━━━━━━━━━━━━━━━━━━━━━━━━\u001b[0m \u001b[32m5.8/5.8 MB\u001b[0m \u001b[31m99.7 MB/s\u001b[0m eta \u001b[36m0:00:00\u001b[0m\n",
            "\u001b[?25hRequirement already satisfied: tensorflow-io-gcs-filesystem>=0.23.1 in /usr/local/lib/python3.10/dist-packages (from tensorflow<2.10.0,>=2.5.0->spleeter) (0.36.0)\n",
            "Collecting tensorflow-estimator<2.10.0,>=2.9.0rc0 (from tensorflow<2.10.0,>=2.5.0->spleeter)\n",
            "  Downloading tensorflow_estimator-2.9.0-py2.py3-none-any.whl (438 kB)\n",
            "\u001b[2K     \u001b[90m━━━━━━━━━━━━━━━━━━━━━━━━━━━━━━━━━━━━━━━━\u001b[0m \u001b[32m438.7/438.7 kB\u001b[0m \u001b[31m46.4 MB/s\u001b[0m eta \u001b[36m0:00:00\u001b[0m\n",
            "\u001b[?25hRequirement already satisfied: termcolor>=1.1.0 in /usr/local/lib/python3.10/dist-packages (from tensorflow<2.10.0,>=2.5.0->spleeter) (2.4.0)\n",
            "Requirement already satisfied: typing-extensions>=3.6.6 in /usr/local/lib/python3.10/dist-packages (from tensorflow<2.10.0,>=2.5.0->spleeter) (4.11.0)\n",
            "Requirement already satisfied: wrapt>=1.11.0 in /usr/local/lib/python3.10/dist-packages (from tensorflow<2.10.0,>=2.5.0->spleeter) (1.14.1)\n",
            "Collecting click<7.2.0,>=7.1.1 (from typer<0.4.0,>=0.3.2->spleeter)\n",
            "  Downloading click-7.1.2-py2.py3-none-any.whl (82 kB)\n",
            "\u001b[2K     \u001b[90m━━━━━━━━━━━━━━━━━━━━━━━━━━━━━━━━━━━━━━━━\u001b[0m \u001b[32m82.8/82.8 kB\u001b[0m \u001b[31m11.9 MB/s\u001b[0m eta \u001b[36m0:00:00\u001b[0m\n",
            "\u001b[?25hRequirement already satisfied: wheel<1.0,>=0.23.0 in /usr/local/lib/python3.10/dist-packages (from astunparse>=1.6.0->tensorflow<2.10.0,>=2.5.0->spleeter) (0.43.0)\n",
            "Collecting hyperframe<7,>=6.0 (from h2<5,>=3->httpx[http2]<0.20.0,>=0.19.0->spleeter)\n",
            "  Downloading hyperframe-6.0.1-py3-none-any.whl (12 kB)\n",
            "Collecting hpack<5,>=4.0 (from h2<5,>=3->httpx[http2]<0.20.0,>=0.19.0->spleeter)\n",
            "  Downloading hpack-4.0.0-py3-none-any.whl (32 kB)\n",
            "Collecting h11<0.13,>=0.11 (from httpcore<0.14.0,>=0.13.3->httpx[http2]<0.20.0,>=0.19.0->spleeter)\n",
            "  Downloading h11-0.12.0-py3-none-any.whl (54 kB)\n",
            "\u001b[2K     \u001b[90m━━━━━━━━━━━━━━━━━━━━━━━━━━━━━━━━━━━━━━━━\u001b[0m \u001b[32m54.9/54.9 kB\u001b[0m \u001b[31m8.7 MB/s\u001b[0m eta \u001b[36m0:00:00\u001b[0m\n",
            "\u001b[?25hRequirement already satisfied: anyio==3.* in /usr/local/lib/python3.10/dist-packages (from httpcore<0.14.0,>=0.13.3->httpx[http2]<0.20.0,>=0.19.0->spleeter) (3.7.1)\n",
            "Requirement already satisfied: idna>=2.8 in /usr/local/lib/python3.10/dist-packages (from anyio==3.*->httpcore<0.14.0,>=0.13.3->httpx[http2]<0.20.0,>=0.19.0->spleeter) (3.6)\n",
            "Requirement already satisfied: exceptiongroup in /usr/local/lib/python3.10/dist-packages (from anyio==3.*->httpcore<0.14.0,>=0.13.3->httpx[http2]<0.20.0,>=0.19.0->spleeter) (1.2.0)\n",
            "Requirement already satisfied: google-auth<3,>=1.6.3 in /usr/local/lib/python3.10/dist-packages (from tensorboard<2.10,>=2.9->tensorflow<2.10.0,>=2.5.0->spleeter) (2.27.0)\n",
            "Collecting google-auth-oauthlib<0.5,>=0.4.1 (from tensorboard<2.10,>=2.9->tensorflow<2.10.0,>=2.5.0->spleeter)\n",
            "  Downloading google_auth_oauthlib-0.4.6-py2.py3-none-any.whl (18 kB)\n",
            "Requirement already satisfied: markdown>=2.6.8 in /usr/local/lib/python3.10/dist-packages (from tensorboard<2.10,>=2.9->tensorflow<2.10.0,>=2.5.0->spleeter) (3.6)\n",
            "Requirement already satisfied: requests<3,>=2.21.0 in /usr/local/lib/python3.10/dist-packages (from tensorboard<2.10,>=2.9->tensorflow<2.10.0,>=2.5.0->spleeter) (2.31.0)\n",
            "Collecting tensorboard-data-server<0.7.0,>=0.6.0 (from tensorboard<2.10,>=2.9->tensorflow<2.10.0,>=2.5.0->spleeter)\n",
            "  Downloading tensorboard_data_server-0.6.1-py3-none-manylinux2010_x86_64.whl (4.9 MB)\n",
            "\u001b[2K     \u001b[90m━━━━━━━━━━━━━━━━━━━━━━━━━━━━━━━━━━━━━━━━\u001b[0m \u001b[32m4.9/4.9 MB\u001b[0m \u001b[31m97.3 MB/s\u001b[0m eta \u001b[36m0:00:00\u001b[0m\n",
            "\u001b[?25hCollecting tensorboard-plugin-wit>=1.6.0 (from tensorboard<2.10,>=2.9->tensorflow<2.10.0,>=2.5.0->spleeter)\n",
            "  Downloading tensorboard_plugin_wit-1.8.1-py3-none-any.whl (781 kB)\n",
            "\u001b[2K     \u001b[90m━━━━━━━━━━━━━━━━━━━━━━━━━━━━━━━━━━━━━━━━\u001b[0m \u001b[32m781.3/781.3 kB\u001b[0m \u001b[31m62.4 MB/s\u001b[0m eta \u001b[36m0:00:00\u001b[0m\n",
            "\u001b[?25hRequirement already satisfied: werkzeug>=1.0.1 in /usr/local/lib/python3.10/dist-packages (from tensorboard<2.10,>=2.9->tensorflow<2.10.0,>=2.5.0->spleeter) (3.0.2)\n",
            "Requirement already satisfied: cachetools<6.0,>=2.0.0 in /usr/local/lib/python3.10/dist-packages (from google-auth<3,>=1.6.3->tensorboard<2.10,>=2.9->tensorflow<2.10.0,>=2.5.0->spleeter) (5.3.3)\n",
            "Requirement already satisfied: pyasn1-modules>=0.2.1 in /usr/local/lib/python3.10/dist-packages (from google-auth<3,>=1.6.3->tensorboard<2.10,>=2.9->tensorflow<2.10.0,>=2.5.0->spleeter) (0.4.0)\n",
            "Requirement already satisfied: rsa<5,>=3.1.4 in /usr/local/lib/python3.10/dist-packages (from google-auth<3,>=1.6.3->tensorboard<2.10,>=2.9->tensorflow<2.10.0,>=2.5.0->spleeter) (4.9)\n",
            "Requirement already satisfied: requests-oauthlib>=0.7.0 in /usr/local/lib/python3.10/dist-packages (from google-auth-oauthlib<0.5,>=0.4.1->tensorboard<2.10,>=2.9->tensorflow<2.10.0,>=2.5.0->spleeter) (1.3.1)\n",
            "Requirement already satisfied: urllib3<3,>=1.21.1 in /usr/local/lib/python3.10/dist-packages (from requests<3,>=2.21.0->tensorboard<2.10,>=2.9->tensorflow<2.10.0,>=2.5.0->spleeter) (2.0.7)\n",
            "Requirement already satisfied: MarkupSafe>=2.1.1 in /usr/local/lib/python3.10/dist-packages (from werkzeug>=1.0.1->tensorboard<2.10,>=2.9->tensorflow<2.10.0,>=2.5.0->spleeter) (2.1.5)\n",
            "Requirement already satisfied: pyasn1<0.7.0,>=0.4.6 in /usr/local/lib/python3.10/dist-packages (from pyasn1-modules>=0.2.1->google-auth<3,>=1.6.3->tensorboard<2.10,>=2.9->tensorflow<2.10.0,>=2.5.0->spleeter) (0.6.0)\n",
            "Requirement already satisfied: oauthlib>=3.0.0 in /usr/local/lib/python3.10/dist-packages (from requests-oauthlib>=0.7.0->google-auth-oauthlib<0.5,>=0.4.1->tensorboard<2.10,>=2.9->tensorflow<2.10.0,>=2.5.0->spleeter) (3.2.2)\n",
            "Installing collected packages: tensorboard-plugin-wit, rfc3986, keras, flatbuffers, tensorflow-estimator, tensorboard-data-server, protobuf, keras-preprocessing, hyperframe, hpack, h11, gast, ffmpeg-python, click, typer, pandas, norbert, httpcore, h2, httpx, google-auth-oauthlib, tensorboard, tensorflow, spleeter\n",
            "  Attempting uninstall: keras\n",
            "    Found existing installation: keras 2.15.0\n",
            "    Uninstalling keras-2.15.0:\n",
            "      Successfully uninstalled keras-2.15.0\n",
            "  Attempting uninstall: flatbuffers\n",
            "    Found existing installation: flatbuffers 24.3.25\n",
            "    Uninstalling flatbuffers-24.3.25:\n",
            "      Successfully uninstalled flatbuffers-24.3.25\n",
            "  Attempting uninstall: tensorflow-estimator\n",
            "    Found existing installation: tensorflow-estimator 2.15.0\n",
            "    Uninstalling tensorflow-estimator-2.15.0:\n",
            "      Successfully uninstalled tensorflow-estimator-2.15.0\n",
            "  Attempting uninstall: tensorboard-data-server\n",
            "    Found existing installation: tensorboard-data-server 0.7.2\n",
            "    Uninstalling tensorboard-data-server-0.7.2:\n",
            "      Successfully uninstalled tensorboard-data-server-0.7.2\n",
            "  Attempting uninstall: protobuf\n",
            "    Found existing installation: protobuf 3.20.3\n",
            "    Uninstalling protobuf-3.20.3:\n",
            "      Successfully uninstalled protobuf-3.20.3\n",
            "  Attempting uninstall: gast\n",
            "    Found existing installation: gast 0.5.4\n",
            "    Uninstalling gast-0.5.4:\n",
            "      Successfully uninstalled gast-0.5.4\n",
            "  Attempting uninstall: click\n",
            "    Found existing installation: click 8.1.7\n",
            "    Uninstalling click-8.1.7:\n",
            "      Successfully uninstalled click-8.1.7\n",
            "  Attempting uninstall: typer\n",
            "    Found existing installation: typer 0.9.4\n",
            "    Uninstalling typer-0.9.4:\n",
            "      Successfully uninstalled typer-0.9.4\n",
            "  Attempting uninstall: pandas\n",
            "    Found existing installation: pandas 2.0.3\n",
            "    Uninstalling pandas-2.0.3:\n",
            "      Successfully uninstalled pandas-2.0.3\n",
            "  Attempting uninstall: google-auth-oauthlib\n",
            "    Found existing installation: google-auth-oauthlib 1.2.0\n",
            "    Uninstalling google-auth-oauthlib-1.2.0:\n",
            "      Successfully uninstalled google-auth-oauthlib-1.2.0\n",
            "  Attempting uninstall: tensorboard\n",
            "    Found existing installation: tensorboard 2.15.2\n",
            "    Uninstalling tensorboard-2.15.2:\n",
            "      Successfully uninstalled tensorboard-2.15.2\n",
            "  Attempting uninstall: tensorflow\n",
            "    Found existing installation: tensorflow 2.15.0\n",
            "    Uninstalling tensorflow-2.15.0:\n",
            "      Successfully uninstalled tensorflow-2.15.0\n",
            "\u001b[31mERROR: pip's dependency resolver does not currently take into account all the packages that are installed. This behaviour is the source of the following dependency conflicts.\n",
            "flask 2.2.5 requires click>=8.0, but you have click 7.1.2 which is incompatible.\n",
            "dask 2023.8.1 requires click>=8.0, but you have click 7.1.2 which is incompatible.\n",
            "distributed 2023.8.1 requires click>=8.0, but you have click 7.1.2 which is incompatible.\n",
            "fiona 1.9.6 requires click~=8.0, but you have click 7.1.2 which is incompatible.\n",
            "google-colab 1.0.0 requires pandas==2.0.3, but you have pandas 1.5.3 which is incompatible.\n",
            "pandas-gbq 0.19.2 requires google-auth-oauthlib>=0.7.0, but you have google-auth-oauthlib 0.4.6 which is incompatible.\n",
            "pip-tools 6.13.0 requires click>=8, but you have click 7.1.2 which is incompatible.\n",
            "tensorflow-datasets 4.9.4 requires protobuf>=3.20, but you have protobuf 3.19.6 which is incompatible.\n",
            "tensorflow-metadata 1.14.0 requires protobuf<4.21,>=3.20.3, but you have protobuf 3.19.6 which is incompatible.\n",
            "tf-keras 2.15.1 requires tensorflow<2.16,>=2.15, but you have tensorflow 2.9.3 which is incompatible.\u001b[0m\u001b[31m\n",
            "\u001b[0mSuccessfully installed click-7.1.2 ffmpeg-python-0.2.0 flatbuffers-1.12 gast-0.4.0 google-auth-oauthlib-0.4.6 h11-0.12.0 h2-4.1.0 hpack-4.0.0 httpcore-0.13.7 httpx-0.19.0 hyperframe-6.0.1 keras-2.9.0 keras-preprocessing-1.1.2 norbert-0.2.1 pandas-1.5.3 protobuf-3.19.6 rfc3986-1.5.0 spleeter-2.4.0 tensorboard-2.9.1 tensorboard-data-server-0.6.1 tensorboard-plugin-wit-1.8.1 tensorflow-2.9.3 tensorflow-estimator-2.9.0 typer-0.3.2\n"
          ]
        },
        {
          "output_type": "display_data",
          "data": {
            "application/vnd.colab-display-data+json": {
              "pip_warning": {
                "packages": [
                  "google"
                ]
              },
              "id": "10e71a81937545bcb833ecc15f289d52"
            }
          },
          "metadata": {}
        }
      ],
      "source": [
        "!pip install spleeter"
      ]
    },
    {
      "cell_type": "markdown",
      "metadata": {
        "id": "lFPBLF5FbVvl"
      },
      "source": [
        "**Vocal Extraction**"
      ]
    },
    {
      "cell_type": "markdown",
      "metadata": {
        "id": "ZNKGy9LyqXa4"
      },
      "source": []
    },
    {
      "cell_type": "code",
      "execution_count": null,
      "metadata": {
        "id": "KtsP6b31Yym_"
      },
      "outputs": [],
      "source": [
        "from spleeter.separator import Separator\n",
        "import os\n",
        "\n",
        "\n",
        "input_folder_path = '/content/drive/MyDrive/Raga dataset2/Aaberi'\n",
        "\n",
        "# Set the output folder for vocals\n",
        "output_folder_path = '/content/drive/MyDrive/Raga dataset2/Aaberi'\n",
        "import spleeter\n",
        "\n",
        "separator = spleeter.separator.Separator(\"spleeter:5stems\")\n",
        "for file_name in os.listdir(input_folder_path):\n",
        "    if file_name.endswith('.wav'):\n",
        "        audio_file_path = os.path.join(input_folder_path, file_name)\n",
        "        vocals = separator.separate_to_file(audio_file_path, output_folder_path)\n"
      ]
    },
    {
      "cell_type": "markdown",
      "metadata": {
        "id": "O_yPPG_nbgTm"
      },
      "source": [
        "**Removing new folders**"
      ]
    },
    {
      "cell_type": "code",
      "source": [
        "import os\n",
        "import shutil\n",
        "\n",
        "# Set the main folder containing subfolders with vocals.wav and accompaniment.wav\n",
        "main_folder_path = '/content/drive/MyDrive/test_raga'\n",
        "\n",
        "# Set the output folder for vocals\n",
        "output_folder_path = '/content/drive/MyDrive/test_raga'\n",
        "\n",
        "# Create the output folder if it doesn't exist\n",
        "os.makedirs(output_folder_path, exist_ok=True)\n",
        "\n",
        "for sub_folder in os.listdir(main_folder_path):\n",
        "    # Loop through all subfolders in the main folder\n",
        "    # print(sub_folder)\n",
        "    sub_path = os.path.join(main_folder_path, sub_folder)\n",
        "    if os.path.isdir(sub_path):\n",
        "        print(sub_path)\n",
        "        # Set the path to vocals.wav and accompaniment.wav in the subfolder\n",
        "        vocals_path = os.path.join(sub_path, 'vocals.wav')\n",
        "        print(vocals_path)\n",
        "\n",
        "        if os.path.exists(vocals_path):\n",
        "            print(vocals_path)\n",
        "            os.makedirs(output_folder_path, exist_ok=True)\n",
        "            new_vocals_name = f'vocals_{sub_folder}.wav'\n",
        "            new_vocals_path = os.path.join(output_folder_path, new_vocals_name)\n",
        "            shutil.move(vocals_path, new_vocals_path)\n",
        "\n",
        "            shutil.rmtree(sub_path)\n",
        "\n",
        "            print(f\"Moved {vocals_path} to {new_vocals_path}\")\n"
      ],
      "metadata": {
        "colab": {
          "base_uri": "https://localhost:8080/"
        },
        "id": "jDRy5U5Y8E_G",
        "outputId": "1db97c43-d519-49e5-f26a-2e55508a4c42"
      },
      "execution_count": null,
      "outputs": [
        {
          "output_type": "stream",
          "name": "stdout",
          "text": [
            "/content/drive/MyDrive/test_raga/thumbi vaa test\n",
            "/content/drive/MyDrive/test_raga/thumbi vaa test/vocals.wav\n",
            "/content/drive/MyDrive/test_raga/thumbi vaa test/vocals.wav\n",
            "Moved /content/drive/MyDrive/test_raga/thumbi vaa test/vocals.wav to /content/drive/MyDrive/test_raga/vocals_thumbi vaa test.wav\n"
          ]
        }
      ]
    },
    {
      "cell_type": "code",
      "execution_count": null,
      "metadata": {
        "id": "cVgTDKtjmfmz"
      },
      "outputs": [],
      "source": [
        "import os\n",
        "import shutil\n",
        "\n",
        "# Set the main folder containing subfolders with vocals.wav and accompaniment.wav\n",
        "main_folder_path = '/content/drive/MyDrive/Raga dataset 2'\n",
        "\n",
        "# Set the output folder for vocals\n",
        "output_folder_path = '/content/drive/MyDrive/Raga dataset 2'\n",
        "\n",
        "# Create the output folder if it doesn't exist\n",
        "os.makedirs(output_folder_path, exist_ok=True)\n",
        "\n",
        "for sub_folder in os.listdir(main_folder_path):\n",
        "    # Loop through all subfolders in the main folder\n",
        "    # print(sub_folder)\n",
        "    sub_path = os.path.join(main_folder_path, sub_folder)\n",
        "    for subfolder_name in os.listdir(sub_path):\n",
        "        # print(subfolder_name, sub_folder)\n",
        "        subfolder_path = os.path.join(sub_path ,subfolder_name)\n",
        "        # print(subfolder_path)\n",
        "        # Check if the current item in the main folder is a directory\n",
        "        if os.path.isdir(subfolder_path):\n",
        "            # Set the path to vocals.wav and accompaniment.wav in the subfolder\n",
        "            vocals_path = os.path.join(subfolder_path, 'vocals.wav')\n",
        "            # print(subfolder_path)\n",
        "            # accompaniment_path = os.path.join(subfolder_path, 'accompaniment.wav')\n",
        "\n",
        "            # Check if vocals.wav and accompaniment.wav exist in the subfolder\n",
        "            if os.path.exists(vocals_path):\n",
        "                # Move vocals.wav to the output folder with a new name\n",
        "                output_folder_path = f'/content/drive/MyDrive/Raga dataset 2/{sub_folder}'\n",
        "                # print(output_folder_path, sub_folder, \"vocal\")\n",
        "                # Create the output folder if it doesn't exist\n",
        "                os.makedirs(output_folder_path, exist_ok=True)\n",
        "                new_vocals_name = f'vocals_{subfolder_name}.wav'\n",
        "                new_vocals_path = os.path.join(output_folder_path, new_vocals_name)\n",
        "                shutil.move(vocals_path, new_vocals_path)\n",
        "\n",
        "                # # Delete accompaniment.wav in the subfolder\n",
        "                # os.remove(accompaniment_path)\n",
        "                shutil.rmtree(subfolder_path)\n",
        "\n",
        "                print(f\"Moved {vocals_path} to {new_vocals_path}\")\n"
      ]
    },
    {
      "cell_type": "code",
      "execution_count": null,
      "metadata": {
        "id": "T6Tu2pS84SDz"
      },
      "outputs": [],
      "source": [
        "i = 2\n",
        "for subfolder_name in os.listdir(main_folder_path):\n",
        "  subfolder_path = os.path.join(main_folder_path, subfolder_name)\n",
        "  print(subfolder_name,i)\n",
        "  if subfolder_name==f\"{i}.wav\":\n",
        "    os.remove(subfolder_path)\n",
        "    i += 1\n",
        "  if os.path.isdir(subfolder_path):\n",
        "    print(subfolder_path)\n",
        "    shutil.rmtree(subfolder_path)"
      ]
    },
    {
      "cell_type": "markdown",
      "metadata": {
        "id": "GaeJ2hkPSADg"
      },
      "source": [
        "**Silence removal**"
      ]
    },
    {
      "cell_type": "code",
      "execution_count": null,
      "metadata": {
        "id": "BBIcrHZydBCU"
      },
      "outputs": [],
      "source": [
        "from pydub import AudioSegment\n",
        "from pydub.silence import split_on_silence\n",
        "import os\n",
        "\n",
        "input_folder_path = '/content/drive/MyDrive/Raga dataset 2'\n",
        "i = 0\n",
        "for subfolders in os.listdir(input_folder_path):\n",
        "    path = os.path.join(input_folder_path, subfolders)\n",
        "    i = 0\n",
        "    for file_name in os.listdir(path):\n",
        "        if file_name.endswith('.wav'):\n",
        "            audio_file_path = os.path.join(path, file_name)\n",
        "\n",
        "            vocal_audio = AudioSegment.from_wav(audio_file_path)\n",
        "\n",
        "            silence_threshold = -40\n",
        "\n",
        "            segments = split_on_silence(vocal_audio, silence_thresh=silence_threshold)\n",
        "\n",
        "            output_audio = sum(segments)\n",
        "\n",
        "            output_file_path = f\"{path}/silence_removed{i}.wav\"\n",
        "\n",
        "            output_audio.export(output_file_path, format=\"wav\")\n",
        "            i += 1"
      ]
    },
    {
      "cell_type": "markdown",
      "metadata": {
        "id": "8iUIPJZ-ZJg-"
      },
      "source": [
        "**Splitting audio into 5 second chunks**"
      ]
    },
    {
      "cell_type": "code",
      "execution_count": null,
      "metadata": {
        "id": "--A4w1Pmdc2F"
      },
      "outputs": [],
      "source": [
        "import os\n",
        "from pydub import AudioSegment\n",
        "\n",
        "def split_audio(input_path, segment_duration_ms=5000):\n",
        "    audio = AudioSegment.from_file(input_path)\n",
        "\n",
        "    num_segments = len(audio) // segment_duration_ms\n",
        "\n",
        "    for i in range(num_segments):\n",
        "        start_time = i * segment_duration_ms\n",
        "        end_time = (i + 1) * segment_duration_ms\n",
        "        segment = audio[start_time:end_time]\n",
        "\n",
        "        base_name = os.path.splitext(os.path.basename(input_path))[0]\n",
        "        output_file_path = f\"{os.path.dirname(input_path)}/{base_name}_split{i + 1}.wav\"\n",
        "\n",
        "        segment.export(output_file_path, format=\"wav\")\n",
        "\n",
        "        print(f\"Segment {i + 1} exported to {output_file_path}\")\n",
        "\n",
        "    os.remove(input_path)\n",
        "\n",
        "input_folder_path = '/content/drive/MyDrive/Raga dataset 2'\n",
        "\n",
        "for subfolder in os.listdir(input_folder_path):\n",
        "    sub_folder = os.path.join(input_folder_path, subfolder)\n",
        "    for file_name in os.listdir(sub_folder):\n",
        "        if file_name.endswith('.wav'):\n",
        "            audio_file_path = os.path.join(sub_folder, file_name)\n",
        "            # print(audio_file_path)\n",
        "\n",
        "            split_audio(audio_file_path, segment_duration_ms=5000)\n"
      ]
    },
    {
      "cell_type": "code",
      "execution_count": null,
      "metadata": {
        "id": "r8tKIT2VnIbl"
      },
      "outputs": [],
      "source": [
        "import os\n",
        "input_folder_path = '/content/drive/MyDrive/Raga dataset 2'\n",
        "\n",
        "for subfolder in os.listdir(input_folder_path):\n",
        "    sub_folder = os.path.join(input_folder_path, subfolder)\n",
        "    i = 0\n",
        "    for file_name in os.listdir(sub_folder):\n",
        "        if file_name.endswith('.wav'):\n",
        "            i += 1\n",
        "    print(sub_folder, i)"
      ]
    },
    {
      "cell_type": "markdown",
      "metadata": {
        "id": "Af6xpiRshUqf"
      },
      "source": [
        "**Make spectrograms**"
      ]
    },
    {
      "cell_type": "code",
      "execution_count": null,
      "metadata": {
        "id": "wHGYtFzOhY-p",
        "colab": {
          "base_uri": "https://localhost:8080/"
        },
        "outputId": "3ee6ccbb-67aa-45a3-f2dd-a4c2b6949bbb"
      },
      "outputs": [
        {
          "output_type": "stream",
          "name": "stdout",
          "text": [
            "/content/drive/MyDrive/test_raga/silence_removed0_split1.wav\n",
            "Spectrogram saved as /content/drive/MyDrive/test_raga/silence_removed0_split1_spectrogram.png\n",
            "/content/drive/MyDrive/test_raga/silence_removed0_split2.wav\n",
            "Spectrogram saved as /content/drive/MyDrive/test_raga/silence_removed0_split2_spectrogram.png\n",
            "/content/drive/MyDrive/test_raga/silence_removed0_split3.wav\n",
            "Spectrogram saved as /content/drive/MyDrive/test_raga/silence_removed0_split3_spectrogram.png\n",
            "/content/drive/MyDrive/test_raga/silence_removed0_split4.wav\n",
            "Spectrogram saved as /content/drive/MyDrive/test_raga/silence_removed0_split4_spectrogram.png\n",
            "/content/drive/MyDrive/test_raga/silence_removed0_split5.wav\n",
            "Spectrogram saved as /content/drive/MyDrive/test_raga/silence_removed0_split5_spectrogram.png\n",
            "/content/drive/MyDrive/test_raga/silence_removed0_split6.wav\n",
            "Spectrogram saved as /content/drive/MyDrive/test_raga/silence_removed0_split6_spectrogram.png\n",
            "/content/drive/MyDrive/test_raga/silence_removed0_split7.wav\n",
            "Spectrogram saved as /content/drive/MyDrive/test_raga/silence_removed0_split7_spectrogram.png\n",
            "/content/drive/MyDrive/test_raga/silence_removed0_split8.wav\n",
            "Spectrogram saved as /content/drive/MyDrive/test_raga/silence_removed0_split8_spectrogram.png\n",
            "/content/drive/MyDrive/test_raga/silence_removed0_split9.wav\n",
            "Spectrogram saved as /content/drive/MyDrive/test_raga/silence_removed0_split9_spectrogram.png\n",
            "/content/drive/MyDrive/test_raga/silence_removed0_split10.wav\n",
            "Spectrogram saved as /content/drive/MyDrive/test_raga/silence_removed0_split10_spectrogram.png\n",
            "/content/drive/MyDrive/test_raga/silence_removed0_split11.wav\n",
            "Spectrogram saved as /content/drive/MyDrive/test_raga/silence_removed0_split11_spectrogram.png\n",
            "/content/drive/MyDrive/test_raga/silence_removed0_split12.wav\n",
            "Spectrogram saved as /content/drive/MyDrive/test_raga/silence_removed0_split12_spectrogram.png\n",
            "/content/drive/MyDrive/test_raga/silence_removed0_split13.wav\n",
            "Spectrogram saved as /content/drive/MyDrive/test_raga/silence_removed0_split13_spectrogram.png\n",
            "/content/drive/MyDrive/test_raga/silence_removed0_split14.wav\n",
            "Spectrogram saved as /content/drive/MyDrive/test_raga/silence_removed0_split14_spectrogram.png\n",
            "/content/drive/MyDrive/test_raga/silence_removed0_split15.wav\n",
            "Spectrogram saved as /content/drive/MyDrive/test_raga/silence_removed0_split15_spectrogram.png\n",
            "/content/drive/MyDrive/test_raga/silence_removed0_split16.wav\n",
            "Spectrogram saved as /content/drive/MyDrive/test_raga/silence_removed0_split16_spectrogram.png\n",
            "/content/drive/MyDrive/test_raga/silence_removed0_split17.wav\n",
            "Spectrogram saved as /content/drive/MyDrive/test_raga/silence_removed0_split17_spectrogram.png\n",
            "/content/drive/MyDrive/test_raga/silence_removed0_split18.wav\n",
            "Spectrogram saved as /content/drive/MyDrive/test_raga/silence_removed0_split18_spectrogram.png\n",
            "/content/drive/MyDrive/test_raga/silence_removed0_split19.wav\n",
            "Spectrogram saved as /content/drive/MyDrive/test_raga/silence_removed0_split19_spectrogram.png\n",
            "/content/drive/MyDrive/test_raga/silence_removed0_split20.wav\n",
            "Spectrogram saved as /content/drive/MyDrive/test_raga/silence_removed0_split20_spectrogram.png\n",
            "/content/drive/MyDrive/test_raga/silence_removed0_split21.wav\n",
            "Spectrogram saved as /content/drive/MyDrive/test_raga/silence_removed0_split21_spectrogram.png\n",
            "/content/drive/MyDrive/test_raga/silence_removed0_split22.wav\n",
            "Spectrogram saved as /content/drive/MyDrive/test_raga/silence_removed0_split22_spectrogram.png\n",
            "/content/drive/MyDrive/test_raga/silence_removed0_split23.wav\n",
            "Spectrogram saved as /content/drive/MyDrive/test_raga/silence_removed0_split23_spectrogram.png\n",
            "/content/drive/MyDrive/test_raga/silence_removed0_split24.wav\n",
            "Spectrogram saved as /content/drive/MyDrive/test_raga/silence_removed0_split24_spectrogram.png\n",
            "/content/drive/MyDrive/test_raga/silence_removed0_split25.wav\n",
            "Spectrogram saved as /content/drive/MyDrive/test_raga/silence_removed0_split25_spectrogram.png\n",
            "/content/drive/MyDrive/test_raga/silence_removed0_split26.wav\n",
            "Spectrogram saved as /content/drive/MyDrive/test_raga/silence_removed0_split26_spectrogram.png\n",
            "/content/drive/MyDrive/test_raga/silence_removed0_split27.wav\n",
            "Spectrogram saved as /content/drive/MyDrive/test_raga/silence_removed0_split27_spectrogram.png\n",
            "/content/drive/MyDrive/test_raga/silence_removed0_split28.wav\n",
            "Spectrogram saved as /content/drive/MyDrive/test_raga/silence_removed0_split28_spectrogram.png\n",
            "/content/drive/MyDrive/test_raga/silence_removed0_split29.wav\n",
            "Spectrogram saved as /content/drive/MyDrive/test_raga/silence_removed0_split29_spectrogram.png\n",
            "/content/drive/MyDrive/test_raga/silence_removed0_split30.wav\n",
            "Spectrogram saved as /content/drive/MyDrive/test_raga/silence_removed0_split30_spectrogram.png\n",
            "/content/drive/MyDrive/test_raga/silence_removed0_split31.wav\n",
            "Spectrogram saved as /content/drive/MyDrive/test_raga/silence_removed0_split31_spectrogram.png\n",
            "/content/drive/MyDrive/test_raga/silence_removed0_split32.wav\n",
            "Spectrogram saved as /content/drive/MyDrive/test_raga/silence_removed0_split32_spectrogram.png\n",
            "/content/drive/MyDrive/test_raga/silence_removed0_split33.wav\n",
            "Spectrogram saved as /content/drive/MyDrive/test_raga/silence_removed0_split33_spectrogram.png\n",
            "/content/drive/MyDrive/test_raga/silence_removed0_split34.wav\n",
            "Spectrogram saved as /content/drive/MyDrive/test_raga/silence_removed0_split34_spectrogram.png\n",
            "/content/drive/MyDrive/test_raga/silence_removed0_split35.wav\n",
            "Spectrogram saved as /content/drive/MyDrive/test_raga/silence_removed0_split35_spectrogram.png\n"
          ]
        }
      ],
      "source": [
        "import os\n",
        "import librosa\n",
        "import librosa.display\n",
        "import numpy as np\n",
        "import matplotlib.pyplot as plt\n",
        "\n",
        "def create_spectrogram(audio_file_path, output_folder):\n",
        "    y, sr = librosa.load(audio_file_path)\n",
        "\n",
        "    D = librosa.amplitude_to_db(np.abs(librosa.stft(y)), ref=np.max)\n",
        "    plt.figure(figsize=(10, 4))\n",
        "    librosa.display.specshow(D, sr=sr, x_axis='time', y_axis='log')\n",
        "    plt.colorbar(format='%+2.0f dB')\n",
        "    plt.title('Spectrogram')\n",
        "    plt.xlabel('Time')\n",
        "    plt.ylabel('Frequency')\n",
        "    plt.tight_layout()\n",
        "\n",
        "    base_name = os.path.splitext(os.path.basename(audio_file_path))[0]\n",
        "    output_image_path = f\"{output_folder}/{base_name}_spectrogram.png\"\n",
        "\n",
        "    plt.savefig(output_image_path)\n",
        "    plt.close()\n",
        "    os.remove(audio_file_path)\n",
        "    print(f\"Spectrogram saved as {output_image_path}\")\n",
        "\n",
        "input_folder_path = '/content/drive/MyDrive/test_raga'\n",
        "\n",
        "\n",
        "for subfolder in os.listdir(input_folder_path):\n",
        "    # sub_folder = os.path.join(input_folder_path, subfolder)\n",
        "    flag = 0\n",
        "    # for file_name in os.listdir(sub_folder):\n",
        "    if subfolder.endswith('.wav'):\n",
        "        # flag = 1\n",
        "        # break\n",
        "        audio_file_path = os.path.join(input_folder_path, subfolder)\n",
        "        print(audio_file_path)\n",
        "        create_spectrogram(audio_file_path, input_folder_path)\n",
        "    if(flag==1):\n",
        "        print(subfolder)"
      ]
    },
    {
      "cell_type": "code",
      "execution_count": null,
      "metadata": {
        "id": "L9kZwJFPqTr3"
      },
      "outputs": [],
      "source": [
        "!pip install tensorflow --upgrade"
      ]
    },
    {
      "cell_type": "markdown",
      "metadata": {
        "id": "P32V8pbpgG_v"
      },
      "source": [
        "**Model Creation**"
      ]
    },
    {
      "cell_type": "code",
      "execution_count": null,
      "metadata": {
        "id": "7epBf-0_2xqr"
      },
      "outputs": [],
      "source": [
        "import cv2\n",
        "import os\n",
        "from PIL import Image\n",
        "import numpy as np\n",
        "path = \"/content/drive/MyDrive/Raga dataset 2\"\n",
        "x = []\n",
        "y = []\n",
        "\n",
        "\n",
        "for child in os.listdir(path):\n",
        "    sub_path = os.path.join(path,child)\n",
        "    if(os.path.isdir(sub_path)):\n",
        "        for data_file in os.listdir(sub_path):\n",
        "            img = os.path.join(sub_path, data_file)\n",
        "            X_i = Image.open(os.path.join(sub_path, data_file))\n",
        "            img = X_i.convert(\"RGB\")\n",
        "            X_i = np.array(img.resize((120,120)))/255.0\n",
        "            x.append(X_i)\n",
        "            y.append(child)\n",
        "# print(np.shape(x))\n",
        "# print(np.shape(x[0]))\n",
        "# print(y)"
      ]
    },
    {
      "cell_type": "code",
      "execution_count": null,
      "metadata": {
        "id": "T--MwdOskdW4"
      },
      "outputs": [],
      "source": [
        "from sklearn.preprocessing import LabelBinarizer\n",
        "encoder = LabelBinarizer()\n",
        "y = encoder.fit_transform(y)"
      ]
    },
    {
      "cell_type": "code",
      "execution_count": null,
      "metadata": {
        "id": "4mxAV6cjmp8N"
      },
      "outputs": [],
      "source": [
        "from sklearn.model_selection import train_test_split\n",
        "x_train, x_test, y_train, y_test = train_test_split(np.array(x), np.array(y),\n",
        "                                                    test_size=0.2, random_state=42)\n",
        "# print(y_train[:15])"
      ]
    },
    {
      "cell_type": "code",
      "execution_count": null,
      "metadata": {
        "id": "MJbpRopNnsIr"
      },
      "outputs": [],
      "source": [
        "import tensorflow as tf\n",
        "# tf.config.run_functions_eagerly(True)\n",
        "# tf.keras.backend.clear_session()\n",
        "# tf.reset_default_graph()\n",
        "tf.Graph().as_default()\n",
        "from tensorflow.keras import layers, models\n",
        "\n",
        "cnn = models.Sequential([\n",
        "    layers.Conv2D(filters=120, kernel_size=(3,3), activation=\"relu\", input_shape=(120,120,3)),\n",
        "    layers.MaxPooling2D((2,2)),\n",
        "\n",
        "    layers.Conv2D(filters=64, kernel_size=(3,3), activation=\"relu\"),\n",
        "    layers.MaxPooling2D((2,2)),\n",
        "\n",
        "    layers.Conv2D(filters=32, kernel_size=(3,3), activation=\"relu\"),\n",
        "    layers.MaxPooling2D((2,2)),\n",
        "\n",
        "    layers.Conv2D(filters=32, kernel_size=(3,3), activation=\"relu\"),\n",
        "    layers.MaxPooling2D((2,2)),\n",
        "\n",
        "    layers.Flatten(),\n",
        "\n",
        "    layers.Dense(64, activation=\"relu\"),\n",
        "    layers.Dense(64, activation=\"relu\"),\n",
        "    layers.Dense(32, activation=\"relu\"),\n",
        "    layers.Dense(32, activation=\"relu\"),\n",
        "    layers.Dense(19, activation=\"softmax\")\n",
        "\n",
        "])\n",
        "cnn.summary()"
      ]
    },
    {
      "cell_type": "code",
      "execution_count": null,
      "metadata": {
        "id": "eBNuLfMPpMB4"
      },
      "outputs": [],
      "source": [
        "cnn.compile(\n",
        "    optimizer=tf.keras.optimizers.Adam(learning_rate=0.001),\n",
        "    loss=\"categorical_crossentropy\",\n",
        "    metrics=[\"accuracy\"],\n",
        ")"
      ]
    },
    {
      "cell_type": "code",
      "execution_count": null,
      "metadata": {
        "id": "NX47MVwJpXtM"
      },
      "outputs": [],
      "source": [
        "cnn.fit(x_train, y_train, epochs=50, batch_size=16)"
      ]
    },
    {
      "cell_type": "code",
      "execution_count": null,
      "metadata": {
        "colab": {
          "base_uri": "https://localhost:8080/"
        },
        "id": "MbLxwhVJpiOL",
        "outputId": "9c642c3a-a22e-421d-b93d-8078cd99e28b"
      },
      "outputs": [
        {
          "output_type": "stream",
          "name": "stdout",
          "text": [
            "51/51 [==============================] - 35s 677ms/step - loss: 4.9487 - accuracy: 0.3638\n"
          ]
        },
        {
          "output_type": "execute_result",
          "data": {
            "text/plain": [
              "[4.948747158050537, 0.36380481719970703]"
            ]
          },
          "metadata": {},
          "execution_count": 8
        }
      ],
      "source": [
        "cnn.evaluate(x_test,y_test)"
      ]
    },
    {
      "cell_type": "code",
      "execution_count": null,
      "metadata": {
        "colab": {
          "base_uri": "https://localhost:8080/"
        },
        "id": "_YxQgMHoIOSx",
        "outputId": "eb6d309d-627c-4ea0-e4b9-417c370b9db0"
      },
      "outputs": [
        {
          "output_type": "stream",
          "name": "stderr",
          "text": [
            "/usr/local/lib/python3.10/dist-packages/keras/src/engine/training.py:3103: UserWarning: You are saving your model as an HDF5 file via `model.save()`. This file format is considered legacy. We recommend using instead the native Keras format, e.g. `model.save('my_model.keras')`.\n",
            "  saving_api.save_model(\n"
          ]
        }
      ],
      "source": [
        "cnn.save_weights(\"./checkpoint\")\n",
        "cnn.save(\"./raga_model\")\n",
        "cnn.save(\"/content/drive/MyDrive/raga.h5\")"
      ]
    },
    {
      "cell_type": "code",
      "execution_count": null,
      "metadata": {
        "id": "iuWs-v_MiGBg",
        "colab": {
          "base_uri": "https://localhost:8080/",
          "height": 322
        },
        "outputId": "3d4d6a2e-ea55-4b74-b0db-e1e1842d0607"
      },
      "outputs": [
        {
          "output_type": "error",
          "ename": "AssertionError",
          "evalue": "Do not use tf.reset_default_graph() to clear nested graphs. If you need a cleared graph, exit the nesting and create a new graph.",
          "traceback": [
            "\u001b[0;31m---------------------------------------------------------------------------\u001b[0m",
            "\u001b[0;31mAssertionError\u001b[0m                            Traceback (most recent call last)",
            "\u001b[0;32m<ipython-input-53-2bd4204a360e>\u001b[0m in \u001b[0;36m<cell line: 3>\u001b[0;34m()\u001b[0m\n\u001b[1;32m      1\u001b[0m \u001b[0;32mimport\u001b[0m \u001b[0mtensorflow\u001b[0m \u001b[0;32mas\u001b[0m \u001b[0mtf\u001b[0m\u001b[0;34m\u001b[0m\u001b[0;34m\u001b[0m\u001b[0m\n\u001b[1;32m      2\u001b[0m \u001b[0mtf\u001b[0m\u001b[0;34m.\u001b[0m\u001b[0mconfig\u001b[0m\u001b[0;34m.\u001b[0m\u001b[0mrun_functions_eagerly\u001b[0m\u001b[0;34m(\u001b[0m\u001b[0;32mTrue\u001b[0m\u001b[0;34m)\u001b[0m\u001b[0;34m\u001b[0m\u001b[0;34m\u001b[0m\u001b[0m\n\u001b[0;32m----> 3\u001b[0;31m \u001b[0mtf\u001b[0m\u001b[0;34m.\u001b[0m\u001b[0mkeras\u001b[0m\u001b[0;34m.\u001b[0m\u001b[0mbackend\u001b[0m\u001b[0;34m.\u001b[0m\u001b[0mclear_session\u001b[0m\u001b[0;34m(\u001b[0m\u001b[0;34m)\u001b[0m\u001b[0;34m\u001b[0m\u001b[0;34m\u001b[0m\u001b[0m\n\u001b[0m",
            "\u001b[0;32m/usr/local/lib/python3.10/dist-packages/keras/backend.py\u001b[0m in \u001b[0;36mclear_session\u001b[0;34m()\u001b[0m\n\u001b[1;32m    277\u001b[0m   \u001b[0;32mglobal\u001b[0m \u001b[0m_GRAPH\u001b[0m\u001b[0;34m\u001b[0m\u001b[0;34m\u001b[0m\u001b[0m\n\u001b[1;32m    278\u001b[0m   \u001b[0m_GRAPH\u001b[0m\u001b[0;34m.\u001b[0m\u001b[0mgraph\u001b[0m \u001b[0;34m=\u001b[0m \u001b[0;32mNone\u001b[0m\u001b[0;34m\u001b[0m\u001b[0;34m\u001b[0m\u001b[0m\n\u001b[0;32m--> 279\u001b[0;31m   \u001b[0mtf\u001b[0m\u001b[0;34m.\u001b[0m\u001b[0mcompat\u001b[0m\u001b[0;34m.\u001b[0m\u001b[0mv1\u001b[0m\u001b[0;34m.\u001b[0m\u001b[0mreset_default_graph\u001b[0m\u001b[0;34m(\u001b[0m\u001b[0;34m)\u001b[0m\u001b[0;34m\u001b[0m\u001b[0;34m\u001b[0m\u001b[0m\n\u001b[0m\u001b[1;32m    280\u001b[0m   \u001b[0mreset_uids\u001b[0m\u001b[0;34m(\u001b[0m\u001b[0;34m)\u001b[0m\u001b[0;34m\u001b[0m\u001b[0;34m\u001b[0m\u001b[0m\n\u001b[1;32m    281\u001b[0m   \u001b[0;32mif\u001b[0m \u001b[0m_SESSION\u001b[0m\u001b[0;34m.\u001b[0m\u001b[0msession\u001b[0m \u001b[0;32mis\u001b[0m \u001b[0;32mnot\u001b[0m \u001b[0;32mNone\u001b[0m\u001b[0;34m:\u001b[0m\u001b[0;34m\u001b[0m\u001b[0;34m\u001b[0m\u001b[0m\n",
            "\u001b[0;32m/usr/local/lib/python3.10/dist-packages/tensorflow/python/framework/ops.py\u001b[0m in \u001b[0;36mreset_default_graph\u001b[0;34m()\u001b[0m\n\u001b[1;32m   6255\u001b[0m   \"\"\"\n\u001b[1;32m   6256\u001b[0m   \u001b[0;32mif\u001b[0m \u001b[0;32mnot\u001b[0m \u001b[0m_default_graph_stack\u001b[0m\u001b[0;34m.\u001b[0m\u001b[0mis_cleared\u001b[0m\u001b[0;34m(\u001b[0m\u001b[0;34m)\u001b[0m\u001b[0;34m:\u001b[0m\u001b[0;34m\u001b[0m\u001b[0;34m\u001b[0m\u001b[0m\n\u001b[0;32m-> 6257\u001b[0;31m     raise AssertionError(\"Do not use tf.reset_default_graph() to clear \"\n\u001b[0m\u001b[1;32m   6258\u001b[0m                          \u001b[0;34m\"nested graphs. If you need a cleared graph, \"\u001b[0m\u001b[0;34m\u001b[0m\u001b[0;34m\u001b[0m\u001b[0m\n\u001b[1;32m   6259\u001b[0m                          \"exit the nesting and create a new graph.\")\n",
            "\u001b[0;31mAssertionError\u001b[0m: Do not use tf.reset_default_graph() to clear nested graphs. If you need a cleared graph, exit the nesting and create a new graph."
          ]
        }
      ],
      "source": [
        "import tensorflow as tf\n",
        "tf.config.run_functions_eagerly(True)\n",
        "tf.keras.backend.clear_session()"
      ]
    },
    {
      "cell_type": "code",
      "execution_count": null,
      "metadata": {
        "id": "ktA5fip9I_hO",
        "colab": {
          "base_uri": "https://localhost:8080/",
          "height": 356
        },
        "outputId": "479a0d57-a161-490b-fac8-fdde32b1b5ac"
      },
      "outputs": [
        {
          "output_type": "error",
          "ename": "RuntimeError",
          "evalue": "Graph is finalized and cannot be modified.",
          "traceback": [
            "\u001b[0;31m---------------------------------------------------------------------------\u001b[0m",
            "\u001b[0;31mRuntimeError\u001b[0m                              Traceback (most recent call last)",
            "\u001b[0;32m<ipython-input-54-6d3f24397044>\u001b[0m in \u001b[0;36m<cell line: 28>\u001b[0;34m()\u001b[0m\n\u001b[1;32m     26\u001b[0m \u001b[0;31m# model = tf.keras.models.load_model('/content/drive/MyDrive/raga.h5', custom_objects={'Adam': custom_optimizer})\u001b[0m\u001b[0;34m\u001b[0m\u001b[0;34m\u001b[0m\u001b[0m\n\u001b[1;32m     27\u001b[0m \u001b[0;31m# Make predictions for the entire batch\u001b[0m\u001b[0;34m\u001b[0m\u001b[0;34m\u001b[0m\u001b[0m\n\u001b[0;32m---> 28\u001b[0;31m \u001b[0mmodel\u001b[0m \u001b[0;34m=\u001b[0m \u001b[0mtf\u001b[0m\u001b[0;34m.\u001b[0m\u001b[0mkeras\u001b[0m\u001b[0;34m.\u001b[0m\u001b[0mmodels\u001b[0m\u001b[0;34m.\u001b[0m\u001b[0mload_model\u001b[0m\u001b[0;34m(\u001b[0m\u001b[0;34m'/content/drive/MyDrive/raga.h5'\u001b[0m\u001b[0;34m)\u001b[0m\u001b[0;34m\u001b[0m\u001b[0;34m\u001b[0m\u001b[0m\n\u001b[0m\u001b[1;32m     29\u001b[0m \u001b[0;34m\u001b[0m\u001b[0m\n\u001b[1;32m     30\u001b[0m \u001b[0mpredictions\u001b[0m \u001b[0;34m=\u001b[0m \u001b[0mmodel\u001b[0m\u001b[0;34m.\u001b[0m\u001b[0mpredict\u001b[0m\u001b[0;34m(\u001b[0m\u001b[0mbatch_images\u001b[0m\u001b[0;34m)\u001b[0m\u001b[0;34m\u001b[0m\u001b[0;34m\u001b[0m\u001b[0m\n",
            "\u001b[0;32m/usr/local/lib/python3.10/dist-packages/keras/utils/traceback_utils.py\u001b[0m in \u001b[0;36merror_handler\u001b[0;34m(*args, **kwargs)\u001b[0m\n\u001b[1;32m     65\u001b[0m     \u001b[0;32mexcept\u001b[0m \u001b[0mException\u001b[0m \u001b[0;32mas\u001b[0m \u001b[0me\u001b[0m\u001b[0;34m:\u001b[0m  \u001b[0;31m# pylint: disable=broad-except\u001b[0m\u001b[0;34m\u001b[0m\u001b[0;34m\u001b[0m\u001b[0m\n\u001b[1;32m     66\u001b[0m       \u001b[0mfiltered_tb\u001b[0m \u001b[0;34m=\u001b[0m \u001b[0m_process_traceback_frames\u001b[0m\u001b[0;34m(\u001b[0m\u001b[0me\u001b[0m\u001b[0;34m.\u001b[0m\u001b[0m__traceback__\u001b[0m\u001b[0;34m)\u001b[0m\u001b[0;34m\u001b[0m\u001b[0;34m\u001b[0m\u001b[0m\n\u001b[0;32m---> 67\u001b[0;31m       \u001b[0;32mraise\u001b[0m \u001b[0me\u001b[0m\u001b[0;34m.\u001b[0m\u001b[0mwith_traceback\u001b[0m\u001b[0;34m(\u001b[0m\u001b[0mfiltered_tb\u001b[0m\u001b[0;34m)\u001b[0m \u001b[0;32mfrom\u001b[0m \u001b[0;32mNone\u001b[0m\u001b[0;34m\u001b[0m\u001b[0;34m\u001b[0m\u001b[0m\n\u001b[0m\u001b[1;32m     68\u001b[0m     \u001b[0;32mfinally\u001b[0m\u001b[0;34m:\u001b[0m\u001b[0;34m\u001b[0m\u001b[0;34m\u001b[0m\u001b[0m\n\u001b[1;32m     69\u001b[0m       \u001b[0;32mdel\u001b[0m \u001b[0mfiltered_tb\u001b[0m\u001b[0;34m\u001b[0m\u001b[0;34m\u001b[0m\u001b[0m\n",
            "\u001b[0;32m/usr/local/lib/python3.10/dist-packages/tensorflow/python/framework/ops.py\u001b[0m in \u001b[0;36m_check_not_finalized\u001b[0;34m(self)\u001b[0m\n\u001b[1;32m   3321\u001b[0m     \"\"\"\n\u001b[1;32m   3322\u001b[0m     \u001b[0;32mif\u001b[0m \u001b[0mself\u001b[0m\u001b[0;34m.\u001b[0m\u001b[0m_finalized\u001b[0m\u001b[0;34m:\u001b[0m\u001b[0;34m\u001b[0m\u001b[0;34m\u001b[0m\u001b[0m\n\u001b[0;32m-> 3323\u001b[0;31m       \u001b[0;32mraise\u001b[0m \u001b[0mRuntimeError\u001b[0m\u001b[0;34m(\u001b[0m\u001b[0;34m\"Graph is finalized and cannot be modified.\"\u001b[0m\u001b[0;34m)\u001b[0m\u001b[0;34m\u001b[0m\u001b[0;34m\u001b[0m\u001b[0m\n\u001b[0m\u001b[1;32m   3324\u001b[0m \u001b[0;34m\u001b[0m\u001b[0m\n\u001b[1;32m   3325\u001b[0m   \u001b[0;32mdef\u001b[0m \u001b[0m_add_op\u001b[0m\u001b[0;34m(\u001b[0m\u001b[0mself\u001b[0m\u001b[0;34m,\u001b[0m \u001b[0mop\u001b[0m\u001b[0;34m,\u001b[0m \u001b[0mop_name\u001b[0m\u001b[0;34m)\u001b[0m\u001b[0;34m:\u001b[0m\u001b[0;34m\u001b[0m\u001b[0;34m\u001b[0m\u001b[0m\n",
            "\u001b[0;31mRuntimeError\u001b[0m: Graph is finalized and cannot be modified."
          ]
        }
      ],
      "source": [
        "import tensorflow as tf\n",
        "from tensorflow.keras.preprocessing import image\n",
        "import numpy as np\n",
        "from PIL import Image\n",
        "import os\n",
        "\n",
        "# Assuming your model is already loaded and named 'cnn'\n",
        "img_path = '/content/drive/MyDrive/test_raga'\n",
        "\n",
        "# Initialize an empty list to store preprocessed images\n",
        "batch_images = []\n",
        "custom_optimizer = tf.keras.optimizers.Adam(learning_rate=0.001)\n",
        "\n",
        "# Iterate through images in the folder\n",
        "for imgfile in os.listdir(img_path):\n",
        "    img_path_full = os.path.join(img_path, imgfile)\n",
        "\n",
        "    # Load and preprocess each image\n",
        "    img = Image.open(img_path_full).resize((120, 120))\n",
        "    img = img.convert(\"RGB\")\n",
        "    img_array = np.array(img) / 255.0  # Normalize to [0, 1]\n",
        "    batch_images.append(img_array)\n",
        "\n",
        "# Convert the list of images to a numpy array\n",
        "batch_images = np.array(batch_images)\n",
        "# model = tf.keras.models.load_model('/content/drive/MyDrive/raga.h5', custom_objects={'Adam': custom_optimizer})\n",
        "# Make predictions for the entire batch\n",
        "model = tf.keras.models.load_model('/content/drive/MyDrive/raga.h5')\n",
        "\n",
        "predictions = model.predict(batch_images)\n",
        "\n",
        "# Print the predictions\n",
        "print(np.argmax(predictions))\n",
        "for i in predictions:\n",
        "    print(np.argmax(i))\n"
      ]
    },
    {
      "cell_type": "code",
      "execution_count": null,
      "metadata": {
        "id": "NgiWPwjsjvG_",
        "colab": {
          "base_uri": "https://localhost:8080/",
          "height": 322
        },
        "outputId": "4e30ebd7-9eaa-4746-8240-43b4e4965950"
      },
      "outputs": [
        {
          "output_type": "error",
          "ename": "RuntimeError",
          "evalue": "Graph is finalized and cannot be modified.",
          "traceback": [
            "\u001b[0;31m---------------------------------------------------------------------------\u001b[0m",
            "\u001b[0;31mRuntimeError\u001b[0m                              Traceback (most recent call last)",
            "\u001b[0;32m<ipython-input-36-2d3ba1a2957f>\u001b[0m in \u001b[0;36m<cell line: 3>\u001b[0;34m()\u001b[0m\n\u001b[1;32m      1\u001b[0m \u001b[0;32mimport\u001b[0m \u001b[0mtensorflow\u001b[0m \u001b[0;32mas\u001b[0m \u001b[0mtf\u001b[0m\u001b[0;34m\u001b[0m\u001b[0;34m\u001b[0m\u001b[0m\n\u001b[1;32m      2\u001b[0m \u001b[0;31m# tf.load_weights('/content/drive/MyDrive/raga.h5')\u001b[0m\u001b[0;34m\u001b[0m\u001b[0;34m\u001b[0m\u001b[0m\n\u001b[0;32m----> 3\u001b[0;31m \u001b[0mtf\u001b[0m\u001b[0;34m.\u001b[0m\u001b[0mkeras\u001b[0m\u001b[0;34m.\u001b[0m\u001b[0mmodels\u001b[0m\u001b[0;34m.\u001b[0m\u001b[0mload_model\u001b[0m\u001b[0;34m(\u001b[0m\u001b[0;34m'/content/drive/MyDrive/raga.h5'\u001b[0m\u001b[0;34m)\u001b[0m\u001b[0;34m\u001b[0m\u001b[0;34m\u001b[0m\u001b[0m\n\u001b[0m",
            "\u001b[0;32m/usr/local/lib/python3.10/dist-packages/keras/utils/traceback_utils.py\u001b[0m in \u001b[0;36merror_handler\u001b[0;34m(*args, **kwargs)\u001b[0m\n\u001b[1;32m     65\u001b[0m     \u001b[0;32mexcept\u001b[0m \u001b[0mException\u001b[0m \u001b[0;32mas\u001b[0m \u001b[0me\u001b[0m\u001b[0;34m:\u001b[0m  \u001b[0;31m# pylint: disable=broad-except\u001b[0m\u001b[0;34m\u001b[0m\u001b[0;34m\u001b[0m\u001b[0m\n\u001b[1;32m     66\u001b[0m       \u001b[0mfiltered_tb\u001b[0m \u001b[0;34m=\u001b[0m \u001b[0m_process_traceback_frames\u001b[0m\u001b[0;34m(\u001b[0m\u001b[0me\u001b[0m\u001b[0;34m.\u001b[0m\u001b[0m__traceback__\u001b[0m\u001b[0;34m)\u001b[0m\u001b[0;34m\u001b[0m\u001b[0;34m\u001b[0m\u001b[0m\n\u001b[0;32m---> 67\u001b[0;31m       \u001b[0;32mraise\u001b[0m \u001b[0me\u001b[0m\u001b[0;34m.\u001b[0m\u001b[0mwith_traceback\u001b[0m\u001b[0;34m(\u001b[0m\u001b[0mfiltered_tb\u001b[0m\u001b[0;34m)\u001b[0m \u001b[0;32mfrom\u001b[0m \u001b[0;32mNone\u001b[0m\u001b[0;34m\u001b[0m\u001b[0;34m\u001b[0m\u001b[0m\n\u001b[0m\u001b[1;32m     68\u001b[0m     \u001b[0;32mfinally\u001b[0m\u001b[0;34m:\u001b[0m\u001b[0;34m\u001b[0m\u001b[0;34m\u001b[0m\u001b[0m\n\u001b[1;32m     69\u001b[0m       \u001b[0;32mdel\u001b[0m \u001b[0mfiltered_tb\u001b[0m\u001b[0;34m\u001b[0m\u001b[0;34m\u001b[0m\u001b[0m\n",
            "\u001b[0;32m/usr/local/lib/python3.10/dist-packages/tensorflow/python/framework/ops.py\u001b[0m in \u001b[0;36m_check_not_finalized\u001b[0;34m(self)\u001b[0m\n\u001b[1;32m   3321\u001b[0m     \"\"\"\n\u001b[1;32m   3322\u001b[0m     \u001b[0;32mif\u001b[0m \u001b[0mself\u001b[0m\u001b[0;34m.\u001b[0m\u001b[0m_finalized\u001b[0m\u001b[0;34m:\u001b[0m\u001b[0;34m\u001b[0m\u001b[0;34m\u001b[0m\u001b[0m\n\u001b[0;32m-> 3323\u001b[0;31m       \u001b[0;32mraise\u001b[0m \u001b[0mRuntimeError\u001b[0m\u001b[0;34m(\u001b[0m\u001b[0;34m\"Graph is finalized and cannot be modified.\"\u001b[0m\u001b[0;34m)\u001b[0m\u001b[0;34m\u001b[0m\u001b[0;34m\u001b[0m\u001b[0m\n\u001b[0m\u001b[1;32m   3324\u001b[0m \u001b[0;34m\u001b[0m\u001b[0m\n\u001b[1;32m   3325\u001b[0m   \u001b[0;32mdef\u001b[0m \u001b[0m_add_op\u001b[0m\u001b[0;34m(\u001b[0m\u001b[0mself\u001b[0m\u001b[0;34m,\u001b[0m \u001b[0mop\u001b[0m\u001b[0;34m,\u001b[0m \u001b[0mop_name\u001b[0m\u001b[0;34m)\u001b[0m\u001b[0;34m:\u001b[0m\u001b[0;34m\u001b[0m\u001b[0;34m\u001b[0m\u001b[0m\n",
            "\u001b[0;31mRuntimeError\u001b[0m: Graph is finalized and cannot be modified."
          ]
        }
      ],
      "source": [
        "import tensorflow as tf\n",
        "# tf.load_weights('/content/drive/MyDrive/raga.h5')\n",
        "tf.keras.models.load_model('/content/drive/MyDrive/raga.h5')"
      ]
    },
    {
      "cell_type": "code",
      "execution_count": null,
      "metadata": {
        "colab": {
          "base_uri": "https://localhost:8080/"
        },
        "id": "e8tihNzVOduO",
        "outputId": "4ca978c0-7426-46e9-cfb0-9319129e1974"
      },
      "outputs": [
        {
          "output_type": "stream",
          "name": "stdout",
          "text": [
            "['Aaberi', 'Aanandha bairavi', 'Bilahari', 'Chakravaakam', 'Dharbaarikaanada', 'Hamsadhwani', 'Harikaamboji', 'Hindolam', 'Joog', 'Kaapi', 'Kalyani', 'Kharaharapriya', 'Madhyamaavathi', 'Mohanam', 'Shankaraabharanam', 'Shanmuka priya', 'Shivaranjini', 'Shudhadhanyasi', 'Sindhu bairavi', 'Vrindhaavana saaranga', 'Yamuna kalyani']\n"
          ]
        }
      ],
      "source": [
        "input = \"/content/drive/MyDrive/Raga detection\"\n",
        "class_labels = []\n",
        "for i in os.listdir(input):\n",
        "    class_labels.append(i)\n",
        "print(class_labels)"
      ]
    },
    {
      "cell_type": "code",
      "execution_count": null,
      "metadata": {
        "colab": {
          "base_uri": "https://localhost:8080/",
          "height": 211
        },
        "id": "1cBznyICMtxN",
        "outputId": "81761dc9-106b-4530-e7a3-316b9f53e789"
      },
      "outputs": [
        {
          "output_type": "error",
          "ename": "NameError",
          "evalue": "name 'predictions' is not defined",
          "traceback": [
            "\u001b[0;31m---------------------------------------------------------------------------\u001b[0m",
            "\u001b[0;31mNameError\u001b[0m                                 Traceback (most recent call last)",
            "\u001b[0;32m<ipython-input-32-4eb7e9f18910>\u001b[0m in \u001b[0;36m<cell line: 1>\u001b[0;34m()\u001b[0m\n\u001b[0;32m----> 1\u001b[0;31m \u001b[0;32mfor\u001b[0m \u001b[0mi\u001b[0m\u001b[0;34m,\u001b[0m \u001b[0mprediction\u001b[0m \u001b[0;32min\u001b[0m \u001b[0menumerate\u001b[0m\u001b[0;34m(\u001b[0m\u001b[0mpredictions\u001b[0m\u001b[0;34m)\u001b[0m\u001b[0;34m:\u001b[0m\u001b[0;34m\u001b[0m\u001b[0;34m\u001b[0m\u001b[0m\n\u001b[0m\u001b[1;32m      2\u001b[0m     \u001b[0mpredicted_class_index\u001b[0m \u001b[0;34m=\u001b[0m \u001b[0mnp\u001b[0m\u001b[0;34m.\u001b[0m\u001b[0margmax\u001b[0m\u001b[0;34m(\u001b[0m\u001b[0mprediction\u001b[0m\u001b[0;34m)\u001b[0m\u001b[0;34m\u001b[0m\u001b[0;34m\u001b[0m\u001b[0m\n\u001b[1;32m      3\u001b[0m     \u001b[0mpredicted_class_label\u001b[0m \u001b[0;34m=\u001b[0m \u001b[0mclass_labels\u001b[0m\u001b[0;34m[\u001b[0m\u001b[0mpredicted_class_index\u001b[0m\u001b[0;34m]\u001b[0m\u001b[0;34m\u001b[0m\u001b[0;34m\u001b[0m\u001b[0m\n\u001b[1;32m      4\u001b[0m     \u001b[0mprint\u001b[0m\u001b[0;34m(\u001b[0m\u001b[0mpredicted_class_index\u001b[0m\u001b[0;34m)\u001b[0m\u001b[0;34m\u001b[0m\u001b[0;34m\u001b[0m\u001b[0m\n\u001b[1;32m      5\u001b[0m     \u001b[0mprint\u001b[0m\u001b[0;34m(\u001b[0m\u001b[0;34mf\"Image {i + 1}: Predicted class - {predicted_class_label}\"\u001b[0m\u001b[0;34m)\u001b[0m\u001b[0;34m\u001b[0m\u001b[0;34m\u001b[0m\u001b[0m\n",
            "\u001b[0;31mNameError\u001b[0m: name 'predictions' is not defined"
          ]
        }
      ],
      "source": [
        "\n",
        "for i, prediction in enumerate(predictions):\n",
        "    predicted_class_index = np.argmax(prediction)\n",
        "    predicted_class_label = class_labels[predicted_class_index]\n",
        "    print(predicted_class_index)\n",
        "    print(f\"Image {i + 1}: Predicted class - {predicted_class_label}\")"
      ]
    },
    {
      "cell_type": "code",
      "execution_count": null,
      "metadata": {
        "colab": {
          "base_uri": "https://localhost:8080/"
        },
        "id": "mo4Tuir2OwUx",
        "outputId": "a497f2a6-56fc-4e67-c942-bb88f561c19c"
      },
      "outputs": [
        {
          "name": "stdout",
          "output_type": "stream",
          "text": [
            "9/9 [==============================] - 5s 524ms/step - loss: 22.0970 - accuracy: 0.1536\n"
          ]
        },
        {
          "data": {
            "text/plain": [
              "[22.096986770629883, 0.15357142686843872]"
            ]
          },
          "execution_count": 10,
          "metadata": {},
          "output_type": "execute_result"
        }
      ],
      "source": [
        "model.evaluate(x_test,y_test)"
      ]
    },
    {
      "cell_type": "code",
      "execution_count": null,
      "metadata": {
        "id": "8Tk2wA_km-lH"
      },
      "outputs": [],
      "source": []
    }
  ],
  "metadata": {
    "accelerator": "GPU",
    "colab": {
      "gpuType": "T4",
      "provenance": [],
      "toc_visible": true,
      "include_colab_link": true
    },
    "kernelspec": {
      "display_name": "Python 3",
      "name": "python3"
    },
    "language_info": {
      "name": "python"
    }
  },
  "nbformat": 4,
  "nbformat_minor": 0
}